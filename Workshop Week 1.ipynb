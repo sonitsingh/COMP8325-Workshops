{
 "cells": [
  {
   "cell_type": "markdown",
   "metadata": {},
   "source": [
    "# COMP8325 Week 1 Workshop"
   ]
  },
  {
   "cell_type": "markdown",
   "metadata": {},
   "source": [
    "In Week 1 practical, our goal is to get familiar with tools we will be using throughout the semester to implement learnt concept from lectures. \n",
    "\n",
    "We will use [**Python**](https://www.python.org/) as a programming language for this unit. Python is one of the most sought after programming language as per Popularity of programming index [PYPL PopularitY of Programming Language](https://pypl.github.io/PYPL.html)\n",
    "\n",
    "We will be using [**Jupyter Notebook**](https://jupyter.org/) which is a free, open-source, interactive web tool that mixes text, code, and output of the code. Every week, we will provide you workshop notebook with instructions and questions which you have to work on. Below each question you will find space (cell in notebook) where you write code and execute it to get the output.\n",
    "\n",
    "To maintain our codebase, we will be using [**Git**](https://git-scm.com/) which is a free and open source distributed version control system (DVCS) designed to handle everything from small to very large projects with speed and efficiency. We will maintain a [**Github**](https://github.com/) repository, which is an internet repository hosting service provider for software development and version control using Git tools."
   ]
  },
  {
   "cell_type": "markdown",
   "metadata": {},
   "source": [
    "## Python data structures"
   ]
  },
  {
   "cell_type": "markdown",
   "metadata": {},
   "source": [
    "Python provides standard set of data structures in its library. Each data structure provides a particular way of organizing data so it can be accessed efficiently, depending on your use case."
   ]
  },
  {
   "cell_type": "markdown",
   "metadata": {},
   "source": [
    "### Python List"
   ]
  },
  {
   "cell_type": "markdown",
   "metadata": {},
   "source": [
    "In the cell below, there are three list. Our goal is to access elements from the list. \n",
    "- Get first element from each list\n",
    "- Get last element from each list\n",
    "- Get third and fourth element from each list"
   ]
  },
  {
   "cell_type": "code",
   "execution_count": null,
   "metadata": {},
   "outputs": [],
   "source": [
    "friends_list = [\"Sam\", \"Luke\", \"Ariana\", \"Tim\", \"Peter\", \"Samantha\"]\n",
    "fruits = [\"apple\", \"orange\", \"pear\", \"grapes\", \"pineapple\", \"papaya\", \"banana\"]\n",
    "capital_cities = [\"Sydney\", \"Melbourne\", \"Brisbane\", \"Perth\", \"Adelaide\", \"Darwin\", \"Hobart\"]"
   ]
  },
  {
   "cell_type": "code",
   "execution_count": null,
   "metadata": {},
   "outputs": [],
   "source": [
    "# Write your code here to answer above question."
   ]
  },
  {
   "cell_type": "markdown",
   "metadata": {},
   "source": [
    "### Python Dictionary"
   ]
  },
  {
   "cell_type": "markdown",
   "metadata": {},
   "source": [
    "A dictionary is a collection of items. Each item in a dictionary is stored as a key-value pair. \n",
    "In the cell below, there are three dictionaries. Our goal is to retrieve value based on the key information.\n",
    "- Get the capital of South Australia (SA)\n",
    "- Get the address of the employee\n",
    "- Get marks obtained by student for the unit ISYS545"
   ]
  },
  {
   "cell_type": "code",
   "execution_count": null,
   "metadata": {},
   "outputs": [],
   "source": [
    "capital = {'NSW': 'Sydney', 'VIC': 'Melbourne', 'SA': 'Adelaide', 'WA': 'Perth', 'QLD': 'Brisbane'}\n",
    "employee = {'name': 'John Citizen', 'age': 47, 'Address': '37 Sydney Street, NSW'}\n",
    "unit_marks = {'COMP8325': 88, 'COMP2345': 92, 'ISYS545': 72, 'COMP8472': 85}"
   ]
  },
  {
   "cell_type": "code",
   "execution_count": null,
   "metadata": {},
   "outputs": [],
   "source": [
    "# Write your code here to answer above questions"
   ]
  },
  {
   "cell_type": "markdown",
   "metadata": {},
   "source": [
    "### Python String"
   ]
  },
  {
   "cell_type": "markdown",
   "metadata": {},
   "source": [
    "A string is a sequence of characters enclosed either inside single quotes, double quotes, or even triple quotes. If string is long and encompasses multiline, we generally use triple quotes to represent it. Python has a set of built-in methods that you can use on strings. A non-exhaustive list can be found [here](https://www.w3schools.com/python/python_ref_string.asp).\n",
    "\n",
    "Below, we create three strings to represent unit code, unit name, and its description. Note we are using different set of quotes to represent strings and they are equivalent in terms of representing strings in Python."
   ]
  },
  {
   "cell_type": "code",
   "execution_count": null,
   "metadata": {},
   "outputs": [],
   "source": [
    "code = \"COMP8325\"\n",
    "title = \"Applications of Artificial Intelligence for Cyber Security\"\n",
    "description = \"\"\"This unit deals with the applications of Artificial Intelligence \n",
    "                in the field of Cyber Security. Topics covered include machine learning-based \n",
    "                intrusion detection systems, malware detection, AI as a service, digital forensics, \n",
    "                incident response leveraging SIEM data. Special attention will be given to the \n",
    "                concept of adversarial machine learning.\"\"\""
   ]
  },
  {
   "cell_type": "markdown",
   "metadata": {},
   "source": [
    "For each of the given strings, get list of words using [split()](https://docs.python.org/3/library/stdtypes.html) method and count number of words to get length of each string."
   ]
  },
  {
   "cell_type": "code",
   "execution_count": null,
   "metadata": {},
   "outputs": [],
   "source": [
    "# Write your code here to answer above questions"
   ]
  },
  {
   "cell_type": "markdown",
   "metadata": {},
   "source": [
    "When counting length of a string, it is important that you convert string to lower case so that word `The` and `the` are considered as same word. It is because Python is a case sensitive language and treat variable differently depending on how we define it."
   ]
  },
  {
   "cell_type": "markdown",
   "metadata": {},
   "source": [
    "Convert the above string to lower case using lower() function and check whether you see any difference in terms of its length. To find out build-in function for converting string to lower case, check Python 3 documentation."
   ]
  },
  {
   "cell_type": "code",
   "execution_count": null,
   "metadata": {},
   "outputs": [],
   "source": [
    "# Write your code here to answer above question"
   ]
  },
  {
   "cell_type": "markdown",
   "metadata": {},
   "source": [
    "In real-world applications, we do not get very clean text data. You can imagine how Twitter data can be noisy. To give you an idea, we define a string containing various punctuation. Using Regular Expression (regex, in short), try to clean the given noisy string. You can find [this regex tutorial](https://regexone.com/) helpful for this exercise."
   ]
  },
  {
   "cell_type": "code",
   "execution_count": null,
   "metadata": {},
   "outputs": [],
   "source": [
    "noisy_string = \"Th!is ?is a$ s@en!!te?!nce.\""
   ]
  },
  {
   "cell_type": "code",
   "execution_count": null,
   "metadata": {},
   "outputs": [],
   "source": [
    "clean_string = re.sub(\"[^\\w\\s]\", \"\", a_string)"
   ]
  },
  {
   "cell_type": "markdown",
   "metadata": {},
   "source": [
    "### Python Tuples"
   ]
  },
  {
   "cell_type": "markdown",
   "metadata": {},
   "source": [
    "Tuples are also Python built-in data types which are immutable. Once defined, no element can be added or deleted from a tuple. This functionality is useful in situations where you might want someone to process data but don't want to manipulate it. We define tuples by placing round brackets around the data elements. Tuple items are indexed with first item having index [0], second item having index [1], and so on."
   ]
  },
  {
   "cell_type": "code",
   "execution_count": null,
   "metadata": {},
   "outputs": [],
   "source": [
    "automotive_brands = (\"Nissan\", \"Toyota\", \"Mitsubishi\", \"MBW\", \"Ford\", \"Audi\")"
   ]
  },
  {
   "cell_type": "markdown",
   "metadata": {},
   "source": [
    "Get first and fourth element in the tuple defined above"
   ]
  },
  {
   "cell_type": "code",
   "execution_count": null,
   "metadata": {},
   "outputs": [],
   "source": [
    "# Write your code here to answer above question"
   ]
  },
  {
   "cell_type": "markdown",
   "metadata": {},
   "source": [
    "## Python control structures"
   ]
  },
  {
   "cell_type": "markdown",
   "metadata": {},
   "source": [
    "In the cell below, I have copied excerpt from *Repetition*, a book written by Peter Handke, Nobel Laureate for Literature in 2019 [Source](https://www.nobelprize.org/prizes/literature/2019/handke/prose/). The goal here is to provide you understanding of various Python control structures. Follow along the questions to work on this."
   ]
  },
  {
   "cell_type": "code",
   "execution_count": null,
   "metadata": {},
   "outputs": [],
   "source": [
    "text = \"\"\"Alone during the day, in my room or out of doors, I thought аbout the waiter more \n",
    "          than about my раrеnts; as I now realize, it was а kind of love. I had nо desire for \n",
    "          contact, I wanted only to bе near him, and I missed him on his day off. When he finally \n",
    "          reappeared, his black-and-white attire brought lifе into the rооm and I acquired а sense \n",
    "          of color. Не always kept his distance, even when off duty, and that may have accounted for \n",
    "          my affection. Оnе day I ran into him in his street clothes at the bus-station buffet, \n",
    "          now in the role of а guest, and there was no difference between the waiter at the hotel \n",
    "          and the young man in the gray suit with а raincoat over his аrm, resting оnе foot on the \n",
    "          railing and slowly munching а sausage while watching the departing buses. And perhaps \n",
    "          this aloofness in combination with his attentiveness аnd poise were the components of \n",
    "          the beauty that so moved me. Even today, in а predicament, I think about that waiter’s \n",
    "          poise; it doesn’t usually help much, but it brings back his image, and for the moment at \n",
    "          least I regain my composure.\n",
    "          \n",
    "          Тoward midnight, оn my last day in the Black Earth Hotel – all the guests and the cook, too, \n",
    "          had left – I passed the open kitchen on my way to my room аnd saw the waiter sitting bу а \n",
    "          tub full of dishes, using а tablecloth to dry them. Later, when I looked out of my window, \n",
    "          he was standing in his shirtsleeves on the bridge across the torrent, holding а pile of \n",
    "          dishes under his right аrm. With his left hand, he took one after another and with а smooth \n",
    "          graceful movement sent them sailing into the water like so many Frisbees.\"\"\""
   ]
  },
  {
   "cell_type": "markdown",
   "metadata": {},
   "source": [
    "You can use `for` loop to iterate over a sequence. Write a for loop to count how many times does `comma` (,) appear in the text."
   ]
  },
  {
   "cell_type": "code",
   "execution_count": null,
   "metadata": {},
   "outputs": [],
   "source": [
    "# Write your code here to answer the above question"
   ]
  },
  {
   "cell_type": "markdown",
   "metadata": {},
   "source": [
    "Using for loop, count how many times word `the` is appearing in the text."
   ]
  },
  {
   "cell_type": "code",
   "execution_count": null,
   "metadata": {},
   "outputs": [],
   "source": [
    "# Write your code here to answer the above question"
   ]
  },
  {
   "cell_type": "markdown",
   "metadata": {},
   "source": [
    "Find unique number of words in the given text. Note: You need to convert text into lower case, clean the text by removing non-desired punctuations, and consider whether you want to consider words such as `bus-station` as a single word or two words by splitting it based on `-`."
   ]
  },
  {
   "cell_type": "code",
   "execution_count": null,
   "metadata": {},
   "outputs": [],
   "source": [
    "# Write your code here to answer the above question"
   ]
  },
  {
   "cell_type": "markdown",
   "metadata": {},
   "source": [
    "After finishing this workshop, commit your work to your Github repository. Show your finished and committed notebook on Github to your tutor."
   ]
  }
 ],
 "metadata": {
  "kernelspec": {
   "display_name": "Python 3",
   "language": "python",
   "name": "python3"
  },
  "language_info": {
   "codemirror_mode": {
    "name": "ipython",
    "version": 3
   },
   "file_extension": ".py",
   "mimetype": "text/x-python",
   "name": "python",
   "nbconvert_exporter": "python",
   "pygments_lexer": "ipython3",
   "version": "3.6.9"
  }
 },
 "nbformat": 4,
 "nbformat_minor": 2
}
